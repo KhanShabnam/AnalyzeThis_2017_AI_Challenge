{
 "cells": [
  {
   "cell_type": "code",
   "execution_count": 1,
   "metadata": {
    "collapsed": true
   },
   "outputs": [],
   "source": [
    "# These are all the modules we'll be using later. Make sure you can import them\n",
    "# before proceeding further.\n",
    "from __future__ import print_function\n",
    "import numpy as np\n",
    "import os\n",
    "import tensorflow as tf\n",
    "import matplotlib.pyplot as plt\n",
    "from six.moves import cPickle as pickle\n",
    "from six.moves import range"
   ]
  },
  {
   "cell_type": "code",
   "execution_count": 2,
   "metadata": {
    "collapsed": false
   },
   "outputs": [
    {
     "name": "stdout",
     "output_type": "stream",
     "text": [
      "Training set (200000, 28, 28) (200000,)\n",
      "Validation set (10000, 28, 28) (10000,)\n",
      "Test set (10000, 28, 28) (10000,)\n"
     ]
    }
   ],
   "source": [
    "data_root = os.path.join('.', 'notMNIST_data') # Change me to store data elsewhere\n",
    "pickle_file = os.path.join(data_root, 'notMNIST.pickle')\n",
    "\n",
    "# save_dir = os.path.join('notmnist_current_model', 'save')\n",
    "save_dir = os.path.join('notMNIST_data', 'save_v8')\n",
    "\n",
    "with open(pickle_file, 'rb') as f:\n",
    "    save = pickle.load(f)\n",
    "    train_dataset = save['train_dataset']\n",
    "    train_labels = save['train_labels']\n",
    "    valid_dataset = save['valid_dataset']\n",
    "    valid_labels = save['valid_labels']\n",
    "    test_dataset = save['test_dataset']\n",
    "    test_labels = save['test_labels']\n",
    "    del save  # hint to help gc free up memory\n",
    "    print('Training set', train_dataset.shape, train_labels.shape)\n",
    "    print('Validation set', valid_dataset.shape, valid_labels.shape)\n",
    "    print('Test set', test_dataset.shape, test_labels.shape)"
   ]
  },
  {
   "cell_type": "code",
   "execution_count": 3,
   "metadata": {
    "collapsed": false
   },
   "outputs": [
    {
     "name": "stdout",
     "output_type": "stream",
     "text": [
      "Training set (200000, 28, 28, 1) (200000, 10)\n",
      "Validation set (10000, 28, 28, 1) (10000, 10)\n",
      "Test set (10000, 28, 28, 1) (10000, 10)\n"
     ]
    }
   ],
   "source": [
    "image_size = 28\n",
    "num_labels = 10\n",
    "num_channels = 1 # grayscale\n",
    "\n",
    "def reformat(dataset, labels):\n",
    "    dataset = dataset.reshape(\n",
    "        (-1, image_size, image_size, num_channels)).astype(np.float32)\n",
    "    labels = (np.arange(num_labels) == labels[:,None]).astype(np.float32)\n",
    "    return dataset, labels\n",
    "train_dataset, train_labels = reformat(train_dataset, train_labels)\n",
    "valid_dataset, valid_labels = reformat(valid_dataset, valid_labels)\n",
    "test_dataset, test_labels = reformat(test_dataset, test_labels)\n",
    "print('Training set', train_dataset.shape, train_labels.shape)\n",
    "print('Validation set', valid_dataset.shape, valid_labels.shape)\n",
    "print('Test set', test_dataset.shape, test_labels.shape)"
   ]
  },
  {
   "cell_type": "code",
   "execution_count": 4,
   "metadata": {
    "collapsed": true
   },
   "outputs": [],
   "source": [
    "def accuracy(predictions, labels):\n",
    "    return (100.0 * np.sum(np.argmax(predictions, 1) == np.argmax(labels, 1))\n",
    "          / predictions.shape[0])"
   ]
  },
  {
   "cell_type": "code",
   "execution_count": 17,
   "metadata": {
    "collapsed": true
   },
   "outputs": [],
   "source": [
    "def classify(test_dataset, model_filename='model.meta', checkpoint_path=None):\n",
    "    \"\"\"\n",
    "    A sample classifier to unpickle a TensorFlow model and label the dataset.\n",
    "    There are magic strings in this function derived from to the model to evaluate.\n",
    "    Your implementation will likely have different tags that depend upon the model\n",
    "    implementation.\n",
    "    \n",
    "    We pad the input test_dataset to make it at least as large as the model batch,\n",
    "    and repeat prediction on chunks of the input if it is larger than the model batch.\n",
    "    \n",
    "    Args:\n",
    "        test_dataset: the #observations by 768 feature nd-array glyphs to classify.\n",
    "        model_filename: optional file name stored by a previous TensorFlow session.\n",
    "        checkpoint_path: optional path for previous TensorFlow session.\n",
    "        \n",
    "    Returns:\n",
    "        The #observations by #labels nd-array labelings.\n",
    "    \"\"\"\n",
    "    \n",
    "    with tf.Session() as session:\n",
    "        if not checkpoint_path:\n",
    "            checkpoint_path = os.getcwd()\n",
    "        saver = tf.train.import_meta_graph(tf.train.latest_checkpoint(checkpoint_path)+'.meta')\n",
    "        saver.restore(session, tf.train.latest_checkpoint(checkpoint_path))\n",
    "        graph_predict = tf.get_default_graph()\n",
    "        test_predict = graph_predict.get_tensor_by_name('hidden3/Wx_plus_b/add:0') # string from model\n",
    "    \n",
    "        result = test_predict.eval(feed_dict={'input/input_data:0': test_dataset[:,:],\n",
    "                                            'dropout/Placeholder:0' : 1.0})\n",
    "    return result"
   ]
  },
  {
   "cell_type": "code",
   "execution_count": 18,
   "metadata": {
    "collapsed": false
   },
   "outputs": [
    {
     "name": "stdout",
     "output_type": "stream",
     "text": [
      "INFO:tensorflow:Restoring parameters from notMNIST_data/save_v8/my-model-new-62500\n",
      "Valid accuracy: 90.7%\n"
     ]
    }
   ],
   "source": [
    "predict = classify(valid_dataset, checkpoint_path=save_dir)\n",
    "print(\"Valid accuracy: %.1f%%\" % accuracy(predict, valid_labels))"
   ]
  },
  {
   "cell_type": "code",
   "execution_count": 19,
   "metadata": {
    "collapsed": false
   },
   "outputs": [
    {
     "name": "stdout",
     "output_type": "stream",
     "text": [
      "INFO:tensorflow:Restoring parameters from notMNIST_data/save_v8/my-model-new-62500\n",
      "Test accuracy: 96.2%\n"
     ]
    }
   ],
   "source": [
    "predict = classify(test_dataset, checkpoint_path=save_dir)\n",
    "print(\"Test accuracy: %.1f%%\" % accuracy(predict, test_labels))"
   ]
  },
  {
   "cell_type": "code",
   "execution_count": null,
   "metadata": {
    "collapsed": true
   },
   "outputs": [],
   "source": []
  }
 ],
 "metadata": {
  "kernelspec": {
   "display_name": "Python 3",
   "language": "python",
   "name": "python3"
  },
  "language_info": {
   "codemirror_mode": {
    "name": "ipython",
    "version": 3
   },
   "file_extension": ".py",
   "mimetype": "text/x-python",
   "name": "python",
   "nbconvert_exporter": "python",
   "pygments_lexer": "ipython3",
   "version": "3.6.0"
  }
 },
 "nbformat": 4,
 "nbformat_minor": 2
}
