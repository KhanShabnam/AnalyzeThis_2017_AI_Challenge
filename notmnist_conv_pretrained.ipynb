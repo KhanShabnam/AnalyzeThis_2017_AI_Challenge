{
 "cells": [
  {
   "cell_type": "code",
   "execution_count": 1,
   "metadata": {
    "collapsed": true
   },
   "outputs": [],
   "source": [
    "# These are all the modules we'll be using later. Make sure you can import them\n",
    "# before proceeding further.\n",
    "from __future__ import print_function\n",
    "import numpy as np\n",
    "import os\n",
    "import tensorflow as tf\n",
    "import matplotlib.pyplot as plt\n",
    "from six.moves import cPickle as pickle\n",
    "from six.moves import range"
   ]
  },
  {
   "cell_type": "code",
   "execution_count": 2,
   "metadata": {
    "collapsed": false
   },
   "outputs": [
    {
     "name": "stdout",
     "output_type": "stream",
     "text": [
      "Training set (200000, 28, 28) (200000,)\n",
      "Validation set (10000, 28, 28) (10000,)\n",
      "Test set (10000, 28, 28) (10000,)\n"
     ]
    }
   ],
   "source": [
    "data_root = os.path.join('.', 'notMNIST_data') # Change me to store data elsewhere\n",
    "pickle_file = os.path.join(data_root, 'notMNIST.pickle')\n",
    "\n",
    "with open(pickle_file, 'rb') as f:\n",
    "    save = pickle.load(f)\n",
    "    train_dataset = save['train_dataset']\n",
    "    train_labels = save['train_labels']\n",
    "    valid_dataset = save['valid_dataset']\n",
    "    valid_labels = save['valid_labels']\n",
    "    test_dataset = save['test_dataset']\n",
    "    test_labels = save['test_labels']\n",
    "    del save  # hint to help gc free up memory\n",
    "    print('Training set', train_dataset.shape, train_labels.shape)\n",
    "    print('Validation set', valid_dataset.shape, valid_labels.shape)\n",
    "    print('Test set', test_dataset.shape, test_labels.shape)"
   ]
  },
  {
   "cell_type": "code",
   "execution_count": 3,
   "metadata": {
    "collapsed": false
   },
   "outputs": [
    {
     "name": "stdout",
     "output_type": "stream",
     "text": [
      "Training set (200000, 28, 28, 1) (200000, 10)\n",
      "Validation set (10000, 28, 28, 1) (10000, 10)\n",
      "Test set (10000, 28, 28, 1) (10000, 10)\n"
     ]
    }
   ],
   "source": [
    "image_size = 28\n",
    "num_labels = 10\n",
    "num_channels = 1 # grayscale\n",
    "\n",
    "import numpy as np\n",
    "\n",
    "def reformat(dataset, labels):\n",
    "    dataset = dataset.reshape(\n",
    "        (-1, image_size, image_size, num_channels)).astype(np.float32)\n",
    "    labels = (np.arange(num_labels) == labels[:,None]).astype(np.float32)\n",
    "    return dataset, labels\n",
    "train_dataset, train_labels = reformat(train_dataset, train_labels)\n",
    "valid_dataset, valid_labels = reformat(valid_dataset, valid_labels)\n",
    "test_dataset, test_labels = reformat(test_dataset, test_labels)\n",
    "print('Training set', train_dataset.shape, train_labels.shape)\n",
    "print('Validation set', valid_dataset.shape, valid_labels.shape)\n",
    "print('Test set', test_dataset.shape, test_labels.shape)"
   ]
  },
  {
   "cell_type": "code",
   "execution_count": 4,
   "metadata": {
    "collapsed": true
   },
   "outputs": [],
   "source": [
    "def accuracy(predictions, labels):\n",
    "    return (100.0 * np.sum(np.argmax(predictions, 1) == np.argmax(labels, 1))\n",
    "          / predictions.shape[0])"
   ]
  },
  {
   "cell_type": "code",
   "execution_count": 9,
   "metadata": {
    "collapsed": false
   },
   "outputs": [
    {
     "name": "stdout",
     "output_type": "stream",
     "text": [
      "INFO:tensorflow:Restoring parameters from ./notMNIST_data/save_v3/my-model-new-3000\n",
      "Model restored.\n",
      "851\n",
      "valid accuracy 0.8599\n"
     ]
    }
   ],
   "source": [
    "save_dir = os.path.join(data_root, 'save_v3')\n",
    "\n",
    "new_graph = tf.Graph()\n",
    "with tf.Session(graph=new_graph) as sess:\n",
    "    # Import the previously export meta graph.\n",
    "    # saver = tf.train.import_meta_graph(tf.train.latest_checkpoint(os.getcwd())+\".meta\")\n",
    "    # saver.restore(sess, tf.train.latest_checkpoint(os.getcwd()))\n",
    "    saver = tf.train.import_meta_graph(save_dir + '/my-model-new-3000.meta')\n",
    "    saver.restore(sess, save_dir +  '/my-model-new-3000')\n",
    "    print('Model restored.')\n",
    "    # W_conv1_trained = sess.run('Variable_2:0')\n",
    "    # plt.figure(1)\n",
    "    # for i in np.arange(32):\n",
    "    #    plt.subplot(4,8,i+1)\n",
    "    #    plt.imshow(W_conv1_trained[:,:,0,i])\n",
    "    #    plt.gray()\n",
    "    # plt.show()\n",
    "    graph = tf.get_default_graph()\n",
    "    ops = graph.get_operations()\n",
    "    print(len(ops))\n",
    "    # print(graph.get_operations())\n",
    "    # for op in ops:\n",
    "    #     print(op.name)\n",
    "    correct_prediction = graph.get_tensor_by_name('accuracy/correct_prediction/Equal:0')\n",
    "    accuracy = graph.get_tensor_by_name('accuracy/accuracy/Mean:0')\n",
    "    \n",
    "    correct_valid, accuracy_valid = sess.run([correct_prediction, accuracy], feed_dict={'input/input_data:0': valid_dataset,\n",
    "                                            \"input/input_labels:0\": valid_labels})\n",
    "    print('valid accuracy %g' % accuracy_valid)\n",
    "    # op1 = graph.get_operation_by_name(\"Equal\")\n",
    "    # print(op1)\n",
    "    # print(op1.name)\n",
    "    # print(mnist.train.labels[:1])\n",
    "    # print(op1.values())\n",
    "    # print(tf.get_collection(tf.GraphKeys.GLOBAL_VARIABLES))"
   ]
  },
  {
   "cell_type": "code",
   "execution_count": 42,
   "metadata": {
    "collapsed": false
   },
   "outputs": [
    {
     "name": "stdout",
     "output_type": "stream",
     "text": [
      "Label: A. Accuracy: 0.853000.\n",
      "Label: B. Accuracy: 0.827000.\n",
      "Label: C. Accuracy: 0.871000.\n",
      "Label: D. Accuracy: 0.892000.\n",
      "Label: E. Accuracy: 0.860000.\n",
      "Label: F. Accuracy: 0.889000.\n",
      "Label: G. Accuracy: 0.868000.\n",
      "Label: H. Accuracy: 0.867000.\n",
      "Label: I. Accuracy: 0.821000.\n",
      "Label: J. Accuracy: 0.851000.\n"
     ]
    }
   ],
   "source": [
    "labels = ['A', 'B', 'C', 'D', 'E', 'F', 'G', 'H', 'I', 'J']\n",
    "for i in np.arange(num_labels):\n",
    "    labels_total = np.sum(np.argmax(valid_labels, axis=1) == i)\n",
    "    labels_correct = np.sum(np.argmax(valid_labels[correct_valid], axis=1) == i)\n",
    "    print('Label: %s. Accuracy: %f.' % (labels[i], labels_correct/labels_total))"
   ]
  },
  {
   "cell_type": "code",
   "execution_count": null,
   "metadata": {
    "collapsed": true
   },
   "outputs": [],
   "source": []
  }
 ],
 "metadata": {
  "kernelspec": {
   "display_name": "Python 3",
   "language": "python",
   "name": "python3"
  },
  "language_info": {
   "codemirror_mode": {
    "name": "ipython",
    "version": 3
   },
   "file_extension": ".py",
   "mimetype": "text/x-python",
   "name": "python",
   "nbconvert_exporter": "python",
   "pygments_lexer": "ipython3",
   "version": "3.6.0"
  }
 },
 "nbformat": 4,
 "nbformat_minor": 2
}
