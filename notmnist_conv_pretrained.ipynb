{
 "cells": [
  {
   "cell_type": "code",
   "execution_count": 1,
   "metadata": {
    "collapsed": true
   },
   "outputs": [],
   "source": [
    "# These are all the modules we'll be using later. Make sure you can import them\n",
    "# before proceeding further.\n",
    "from __future__ import print_function\n",
    "import numpy as np\n",
    "import os\n",
    "import tensorflow as tf\n",
    "import matplotlib.pyplot as plt\n",
    "from six.moves import cPickle as pickle\n",
    "from six.moves import range"
   ]
  },
  {
   "cell_type": "code",
   "execution_count": 2,
   "metadata": {
    "collapsed": false
   },
   "outputs": [
    {
     "name": "stdout",
     "output_type": "stream",
     "text": [
      "Training set (200000, 28, 28) (200000,)\n",
      "Validation set (10000, 28, 28) (10000,)\n",
      "Test set (10000, 28, 28) (10000,)\n"
     ]
    }
   ],
   "source": [
    "data_root = os.path.join('.', 'notMNIST_data') # Change me to store data elsewhere\n",
    "pickle_file = os.path.join(data_root, 'notMNIST.pickle')\n",
    "\n",
    "save_dir = os.path.join('notmnist_current_model', 'save')\n",
    "\n",
    "with open(pickle_file, 'rb') as f:\n",
    "    save = pickle.load(f)\n",
    "    train_dataset = save['train_dataset']\n",
    "    train_labels = save['train_labels']\n",
    "    valid_dataset = save['valid_dataset']\n",
    "    valid_labels = save['valid_labels']\n",
    "    test_dataset = save['test_dataset']\n",
    "    test_labels = save['test_labels']\n",
    "    del save  # hint to help gc free up memory\n",
    "    print('Training set', train_dataset.shape, train_labels.shape)\n",
    "    print('Validation set', valid_dataset.shape, valid_labels.shape)\n",
    "    print('Test set', test_dataset.shape, test_labels.shape)"
   ]
  },
  {
   "cell_type": "code",
   "execution_count": 3,
   "metadata": {
    "collapsed": false
   },
   "outputs": [
    {
     "name": "stdout",
     "output_type": "stream",
     "text": [
      "Training set (200000, 28, 28, 1) (200000, 10)\n",
      "Validation set (10000, 28, 28, 1) (10000, 10)\n",
      "Test set (10000, 28, 28, 1) (10000, 10)\n"
     ]
    }
   ],
   "source": [
    "image_size = 28\n",
    "num_labels = 10\n",
    "num_channels = 1 # grayscale\n",
    "\n",
    "labels = ['A', 'B', 'C', 'D', 'E', 'F', 'G', 'H', 'I', 'J']\n",
    "\n",
    "import numpy as np\n",
    "\n",
    "def reformat(dataset, labels):\n",
    "    dataset = dataset.reshape(\n",
    "        (-1, image_size, image_size, num_channels)).astype(np.float32)\n",
    "    labels = (np.arange(num_labels) == labels[:,None]).astype(np.float32)\n",
    "    return dataset, labels\n",
    "train_dataset, train_labels = reformat(train_dataset, train_labels)\n",
    "valid_dataset, valid_labels = reformat(valid_dataset, valid_labels)\n",
    "test_dataset, test_labels = reformat(test_dataset, test_labels)\n",
    "print('Training set', train_dataset.shape, train_labels.shape)\n",
    "print('Validation set', valid_dataset.shape, valid_labels.shape)\n",
    "print('Test set', test_dataset.shape, test_labels.shape)"
   ]
  },
  {
   "cell_type": "code",
   "execution_count": 4,
   "metadata": {
    "collapsed": true
   },
   "outputs": [],
   "source": [
    "def accuracy(predictions, labels):\n",
    "    return (100.0 * np.sum(np.argmax(predictions, 1) == np.argmax(labels, 1))\n",
    "          / predictions.shape[0])"
   ]
  },
  {
   "cell_type": "code",
   "execution_count": 6,
   "metadata": {
    "collapsed": false
   },
   "outputs": [
    {
     "name": "stdout",
     "output_type": "stream",
     "text": [
      "INFO:tensorflow:Restoring parameters from notmnist_current_model/save/model\n",
      "Model restored.\n",
      "892\n",
      "valid accuracy 0.8947\n"
     ]
    }
   ],
   "source": [
    "new_graph = tf.Graph()\n",
    "with tf.Session(graph=new_graph) as sess:\n",
    "    # Import the previously export meta graph.\n",
    "    # saver = tf.train.import_meta_graph(tf.train.latest_checkpoint(os.getcwd())+\".meta\")\n",
    "    # saver.restore(sess, tf.train.latest_checkpoint(os.getcwd()))\n",
    "    saver = tf.train.import_meta_graph(save_dir + '/model.meta')\n",
    "    saver.restore(sess, save_dir + '/model')\n",
    "    print('Model restored.')\n",
    "    graph = tf.get_default_graph()\n",
    "    ops = graph.get_operations()\n",
    "    print(len(ops))\n",
    "    # print(graph.get_operations())\n",
    "    # for op in ops:\n",
    "    #     print(op.name)\n",
    "    logits = graph.get_tensor_by_name('hidden3/Wx_plus_b/add:0')\n",
    "    correct_prediction = graph.get_tensor_by_name('accuracy/correct_prediction/Equal:0')\n",
    "    accuracy = graph.get_tensor_by_name('accuracy/accuracy/Mean:0')\n",
    "    \n",
    "    conv1_weights = graph.get_tensor_by_name('conv1/weights/Variable:0')\n",
    "    conv1_biases = graph.get_tensor_by_name('conv1/biases/Variable:0')\n",
    "    conv2_weights = graph.get_tensor_by_name('conv2/weights/Variable:0')\n",
    "    conv2_biases = graph.get_tensor_by_name('conv2/biases/Variable:0')\n",
    "    \n",
    "    hidden1_weights = graph.get_tensor_by_name('hidden1/weights/Variable:0')\n",
    "    hidden1_biases = graph.get_tensor_by_name('hidden1/biases/Variable:0')\n",
    "    hidden2_weights = graph.get_tensor_by_name('hidden2/weights/Variable:0')\n",
    "    hidden2_biases = graph.get_tensor_by_name('hidden2/biases/Variable:0')\n",
    "    hidden3_weights = graph.get_tensor_by_name('hidden3/weights/Variable:0')\n",
    "    hidden3_biases = graph.get_tensor_by_name('hidden3/biases/Variable:0')\n",
    "    \n",
    "    conv1_weights_trained, conv1_biases_trained = sess.run([conv1_weights, conv1_biases])\n",
    "    conv2_weights_trained, conv2_biases_trained = sess.run([conv2_weights, conv2_biases])\n",
    "    \n",
    "    hidden1_weights_trained, hidden1_biases_trained = sess.run([hidden1_weights, hidden1_biases])\n",
    "    hidden2_weights_trained, hidden2_biases_trained = sess.run([hidden2_weights, hidden2_biases])\n",
    "    hidden3_weights_trained, hidden3_biases_trained = sess.run([hidden3_weights, hidden3_biases])\n",
    "    \n",
    "    logits_valid = sess.run(logits, feed_dict={'input/input_data:0': valid_dataset,\n",
    "                                            'input/input_labels:0': valid_labels, 'dropout/Placeholder:0' : 1.0})\n",
    "    \n",
    "    correct_valid, accuracy_valid = sess.run([correct_prediction, accuracy], feed_dict={'input/input_data:0': valid_dataset,\n",
    "                                            'input/input_labels:0': valid_labels, 'dropout/Placeholder:0' : 1.0})\n",
    "    print('valid accuracy %g' % accuracy_valid)\n",
    "    \n",
    "    # correct_test, accuracy_test = sess.run([correct_prediction, accuracy], feed_dict={'input/input_data:0': test_dataset,\n",
    "    #                                         'input/input_labels:0': test_labels, 'dropout/Placeholder:0' : 1.0})\n",
    "    # print('test accuracy %g' % accuracy_test)\n",
    "    "
   ]
  },
  {
   "cell_type": "code",
   "execution_count": 7,
   "metadata": {
    "collapsed": false
   },
   "outputs": [],
   "source": [
    "predictions_valid = np.argmax(logits_valid, axis=1)\n",
    "true_valid = np.argmax(valid_labels, axis=1)\n",
    "label_array = np.zeros([num_labels, num_labels])\n",
    "\n",
    "for i in np.arange(len(true_valid)):\n",
    "    predict_label = predictions_valid[i]\n",
    "    true_label = true_valid[i]\n",
    "    label_array[true_label, predict_label] += 1"
   ]
  },
  {
   "cell_type": "code",
   "execution_count": 8,
   "metadata": {
    "collapsed": false
   },
   "outputs": [
    {
     "data": {
      "image/png": "[encoded data removed]",
      "text/plain": [
       "<matplotlib.figure.Figure at 0x121391d68>"
      ]
     },
     "metadata": {},
     "output_type": "display_data"
    }
   ],
   "source": [
    "plt.imshow(np.log(label_array))\n",
    "plt.xticks(np.arange(num_labels), labels)\n",
    "plt.xlabel('Predicted label')\n",
    "plt.yticks(np.arange(num_labels), labels)\n",
    "plt.ylabel('Correct label')\n",
    "plt.suptitle('Logarithm of label counts')\n",
    "plt.show()"
   ]
  },
  {
   "cell_type": "code",
   "execution_count": 9,
   "metadata": {
    "collapsed": false
   },
   "outputs": [
    {
     "name": "stdout",
     "output_type": "stream",
     "text": [
      "(5, 5, 1, 16)\n",
      "(16,)\n",
      "(5, 5, 16, 16)\n",
      "(16,)\n",
      "(784, 64)\n",
      "(64,)\n",
      "(64, 64)\n",
      "(64,)\n",
      "(64, 10)\n",
      "(10,)\n"
     ]
    }
   ],
   "source": [
    "print(conv1_weights_trained.shape)\n",
    "print(conv1_biases_trained.shape)\n",
    "print(conv2_weights_trained.shape)\n",
    "print(conv2_biases_trained.shape)\n",
    "\n",
    "print(hidden1_weights_trained.shape)\n",
    "print(hidden1_biases_trained.shape)\n",
    "print(hidden2_weights_trained.shape)\n",
    "print(hidden2_biases_trained.shape)\n",
    "print(hidden3_weights_trained.shape)\n",
    "print(hidden3_biases_trained.shape)"
   ]
  },
  {
   "cell_type": "code",
   "execution_count": 10,
   "metadata": {
    "collapsed": false
   },
   "outputs": [
    {
     "data": {
      "image/png": "[encoded data removed]",
      "text/plain": [
       "<matplotlib.figure.Figure at 0x121391358>"
      ]
     },
     "metadata": {},
     "output_type": "display_data"
    }
   ],
   "source": [
    "plt.figure(1)\n",
    "for i in np.arange(conv1_weights_trained.shape[3]):\n",
    "    plt.subplot(4,4,i+1)\n",
    "    plt.imshow(conv1_weights_trained[:,:,0,i])\n",
    "    plt.gray()\n",
    "plt.suptitle(\"Weights in first convolutional layer\")\n",
    "plt.show()"
   ]
  },
  {
   "cell_type": "code",
   "execution_count": 11,
   "metadata": {
    "collapsed": false
   },
   "outputs": [
    {
     "data": {
      "image/png": "[encoded data removed]",
      "text/plain": [
       "<matplotlib.figure.Figure at 0x1214f0668>"
      ]
     },
     "metadata": {},
     "output_type": "display_data"
    }
   ],
   "source": [
    "plt.figure(1)\n",
    "plt.imshow(hidden3_weights_trained)\n",
    "plt.suptitle(\"Weights in last fully connected layer\")\n",
    "plt.show()"
   ]
  },
  {
   "cell_type": "code",
   "execution_count": 12,
   "metadata": {
    "collapsed": false
   },
   "outputs": [
    {
     "name": "stdout",
     "output_type": "stream",
     "text": [
      "Label: A. Accuracy: 0.913000.\n",
      "Label: B. Accuracy: 0.887000.\n",
      "Label: C. Accuracy: 0.903000.\n",
      "Label: D. Accuracy: 0.904000.\n",
      "Label: E. Accuracy: 0.844000.\n",
      "Label: F. Accuracy: 0.912000.\n",
      "Label: G. Accuracy: 0.919000.\n",
      "Label: H. Accuracy: 0.907000.\n",
      "Label: I. Accuracy: 0.868000.\n",
      "Label: J. Accuracy: 0.890000.\n"
     ]
    }
   ],
   "source": [
    "labels = ['A', 'B', 'C', 'D', 'E', 'F', 'G', 'H', 'I', 'J']\n",
    "labels_total_valid = np.zeros([num_labels])\n",
    "labels_correct_valid = np.zeros([num_labels])\n",
    "for i in np.arange(num_labels):\n",
    "    labels_total_valid[i] = np.sum(np.argmax(valid_labels, axis=1) == i)\n",
    "    labels_correct_valid[i] = np.sum(np.argmax(valid_labels[correct_valid], axis=1) == i)\n",
    "    print('Label: %s. Accuracy: %f.' % (labels[i], labels_correct_valid[i]/labels_total_valid[i]))"
   ]
  },
  {
   "cell_type": "code",
   "execution_count": 13,
   "metadata": {
    "collapsed": false
   },
   "outputs": [
    {
     "data": {
      "image/png": "[encoded data removed]",
      "text/plain": [
       "<matplotlib.figure.Figure at 0x1213914a8>"
      ]
     },
     "metadata": {},
     "output_type": "display_data"
    }
   ],
   "source": [
    "plt.plot(np.arange(num_labels), np.divide(labels_correct_valid,labels_total_valid))\n",
    "plt.xticks(np.arange(num_labels), labels)\n",
    "plt.suptitle('Validation set classification rate, by label')\n",
    "plt.show()"
   ]
  },
  {
   "cell_type": "code",
   "execution_count": null,
   "metadata": {
    "collapsed": true
   },
   "outputs": [],
   "source": []
  }
 ],
 "metadata": {
  "kernelspec": {
   "display_name": "Python 3",
   "language": "python",
   "name": "python3"
  },
  "language_info": {
   "codemirror_mode": {
    "name": "ipython",
    "version": 3
   },
   "file_extension": ".py",
   "mimetype": "text/x-python",
   "name": "python",
   "nbconvert_exporter": "python",
   "pygments_lexer": "ipython3",
   "version": "3.6.0"
  }
 },
 "nbformat": 4,
 "nbformat_minor": 2
}
