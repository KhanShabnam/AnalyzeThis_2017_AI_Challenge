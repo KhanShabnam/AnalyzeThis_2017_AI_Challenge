{
 "cells": [
  {
   "cell_type": "markdown",
   "metadata": {
    "colab_type": "text",
    "id": "4embtkV0pNxM"
   },
   "source": [
    "Deep Learning\n",
    "=============\n",
    "\n",
    "Assignment 4\n",
    "------------\n",
    "\n",
    "Previously in `2_fullyconnected.ipynb` and `3_regularization.ipynb`, we trained fully connected networks to classify [notMNIST](http://yaroslavvb.blogspot.com/2011/09/notmnist-dataset.html) characters.\n",
    "\n",
    "The goal of this assignment is make the neural network convolutional."
   ]
  },
  {
   "cell_type": "code",
   "execution_count": 1,
   "metadata": {
    "cellView": "both",
    "colab": {
     "autoexec": {
      "startup": false,
      "wait_interval": 0
     }
    },
    "colab_type": "code",
    "collapsed": true,
    "id": "tm2CQN_Cpwj0"
   },
   "outputs": [],
   "source": [
    "# These are all the modules we'll be using later. Make sure you can import them\n",
    "# before proceeding further.\n",
    "from __future__ import print_function\n",
    "import numpy as np\n",
    "import os\n",
    "import tensorflow as tf\n",
    "import matplotlib.pyplot as plt\n",
    "from six.moves import cPickle as pickle\n",
    "from six.moves import range"
   ]
  },
  {
   "cell_type": "code",
   "execution_count": 2,
   "metadata": {
    "cellView": "both",
    "colab": {
     "autoexec": {
      "startup": false,
      "wait_interval": 0
     },
     "output_extras": [
      {
       "item_id": 1
      }
     ]
    },
    "colab_type": "code",
    "collapsed": false,
    "executionInfo": {
     "elapsed": 11948,
     "status": "ok",
     "timestamp": 1446658914837,
     "user": {
      "color": "",
      "displayName": "",
      "isAnonymous": false,
      "isMe": true,
      "permissionId": "",
      "photoUrl": "",
      "sessionId": "0",
      "userId": ""
     },
     "user_tz": 480
    },
    "id": "y3-cj1bpmuxc",
    "outputId": "016b1a51-0290-4b08-efdb-8c95ffc3cd01"
   },
   "outputs": [
    {
     "name": "stdout",
     "output_type": "stream",
     "text": [
      "Training set (200000, 28, 28) (200000,)\n",
      "Validation set (10000, 28, 28) (10000,)\n",
      "Test set (10000, 28, 28) (10000,)\n"
     ]
    }
   ],
   "source": [
    "data_root = os.path.join('.', 'notMNIST_data') # Change me to store data elsewhere\n",
    "pickle_file = os.path.join(data_root, 'notMNIST.pickle')\n",
    "\n",
    "with open(pickle_file, 'rb') as f:\n",
    "    save = pickle.load(f)\n",
    "    train_dataset = save['train_dataset']\n",
    "    train_labels = save['train_labels']\n",
    "    valid_dataset = save['valid_dataset']\n",
    "    valid_labels = save['valid_labels']\n",
    "    test_dataset = save['test_dataset']\n",
    "    test_labels = save['test_labels']\n",
    "    del save  # hint to help gc free up memory\n",
    "    print('Training set', train_dataset.shape, train_labels.shape)\n",
    "    print('Validation set', valid_dataset.shape, valid_labels.shape)\n",
    "    print('Test set', test_dataset.shape, test_labels.shape)"
   ]
  },
  {
   "cell_type": "markdown",
   "metadata": {
    "colab_type": "text",
    "id": "L7aHrm6nGDMB"
   },
   "source": [
    "Reformat into a TensorFlow-friendly shape:\n",
    "- convolutions need the image data formatted as a cube (width by height by #channels)\n",
    "- labels as float 1-hot encodings."
   ]
  },
  {
   "cell_type": "code",
   "execution_count": 3,
   "metadata": {
    "cellView": "both",
    "colab": {
     "autoexec": {
      "startup": false,
      "wait_interval": 0
     },
     "output_extras": [
      {
       "item_id": 1
      }
     ]
    },
    "colab_type": "code",
    "collapsed": false,
    "executionInfo": {
     "elapsed": 11952,
     "status": "ok",
     "timestamp": 1446658914857,
     "user": {
      "color": "",
      "displayName": "",
      "isAnonymous": false,
      "isMe": true,
      "permissionId": "",
      "photoUrl": "",
      "sessionId": "0",
      "userId": ""
     },
     "user_tz": 480
    },
    "id": "IRSyYiIIGIzS",
    "outputId": "650a208c-8359-4852-f4f5-8bf10e80ef6c"
   },
   "outputs": [
    {
     "name": "stdout",
     "output_type": "stream",
     "text": [
      "Training set (200000, 28, 28, 1) (200000, 10)\n",
      "Validation set (10000, 28, 28, 1) (10000, 10)\n",
      "Test set (10000, 28, 28, 1) (10000, 10)\n"
     ]
    }
   ],
   "source": [
    "image_size = 28\n",
    "num_labels = 10\n",
    "num_channels = 1 # grayscale\n",
    "\n",
    "def reformat(dataset, labels):\n",
    "    dataset = dataset.reshape(\n",
    "        (-1, image_size, image_size, num_channels)).astype(np.float32)\n",
    "    labels = (np.arange(num_labels) == labels[:,None]).astype(np.float32)\n",
    "    return dataset, labels\n",
    "train_dataset, train_labels = reformat(train_dataset, train_labels)\n",
    "valid_dataset, valid_labels = reformat(valid_dataset, valid_labels)\n",
    "test_dataset, test_labels = reformat(test_dataset, test_labels)\n",
    "print('Training set', train_dataset.shape, train_labels.shape)\n",
    "print('Validation set', valid_dataset.shape, valid_labels.shape)\n",
    "print('Test set', test_dataset.shape, test_labels.shape)"
   ]
  },
  {
   "cell_type": "code",
   "execution_count": 4,
   "metadata": {
    "cellView": "both",
    "colab": {
     "autoexec": {
      "startup": false,
      "wait_interval": 0
     }
    },
    "colab_type": "code",
    "collapsed": true,
    "id": "AgQDIREv02p1"
   },
   "outputs": [],
   "source": [
    "def accuracy(predictions, labels):\n",
    "    return (100.0 * np.sum(np.argmax(predictions, 1) == np.argmax(labels, 1))\n",
    "          / predictions.shape[0])"
   ]
  },
  {
   "cell_type": "markdown",
   "metadata": {
    "colab_type": "text",
    "id": "5rhgjmROXu2O"
   },
   "source": [
    "Let's build a small network with two convolutional layers, followed by one fully connected layer. Convolutional networks are more expensive computationally, so we'll limit its depth and number of fully connected nodes."
   ]
  },
  {
   "cell_type": "code",
   "execution_count": 5,
   "metadata": {
    "cellView": "both",
    "colab": {
     "autoexec": {
      "startup": false,
      "wait_interval": 0
     }
    },
    "colab_type": "code",
    "collapsed": true,
    "id": "IZYv70SvvOan"
   },
   "outputs": [],
   "source": [
    "batch_size = 16\n",
    "patch_size = 5\n",
    "depth = 16\n",
    "num_hidden = 64\n",
    "\n",
    "graph = tf.Graph()\n",
    "\n",
    "with graph.as_default():\n",
    "\n",
    "    # Input data.\n",
    "    tf_train_dataset = tf.placeholder(\n",
    "        tf.float32, shape=(batch_size, image_size, image_size, num_channels))\n",
    "    tf_train_labels = tf.placeholder(tf.float32, shape=(batch_size, num_labels))\n",
    "    tf_valid_dataset = tf.constant(valid_dataset)\n",
    "    tf_test_dataset = tf.constant(test_dataset)\n",
    "\n",
    "    # Variables.\n",
    "    layer1_weights = tf.Variable(tf.truncated_normal(\n",
    "        [patch_size, patch_size, num_channels, depth], stddev=0.1))\n",
    "    layer1_biases = tf.Variable(tf.zeros([depth]))\n",
    "    layer2_weights = tf.Variable(tf.truncated_normal(\n",
    "        [patch_size, patch_size, depth, depth], stddev=0.1))\n",
    "    layer2_biases = tf.Variable(tf.constant(1.0, shape=[depth]))\n",
    "    layer3_weights = tf.Variable(tf.truncated_normal(\n",
    "        [image_size // 4 * image_size // 4 * depth, num_hidden], stddev=0.1))\n",
    "    layer3_biases = tf.Variable(tf.constant(1.0, shape=[num_hidden]))\n",
    "    layer4_weights = tf.Variable(tf.truncated_normal(\n",
    "        [num_hidden, num_labels], stddev=0.1))\n",
    "    layer4_biases = tf.Variable(tf.constant(1.0, shape=[num_labels]))\n",
    "\n",
    "    # Model.\n",
    "    def model(data):\n",
    "        conv = tf.nn.conv2d(data, layer1_weights, [1, 2, 2, 1], padding='SAME')\n",
    "        hidden = tf.nn.relu(conv + layer1_biases)\n",
    "        conv = tf.nn.conv2d(hidden, layer2_weights, [1, 2, 2, 1], padding='SAME')\n",
    "        hidden = tf.nn.relu(conv + layer2_biases)\n",
    "        shape = hidden.get_shape().as_list()\n",
    "        reshape = tf.reshape(hidden, [shape[0], shape[1] * shape[2] * shape[3]])\n",
    "        hidden = tf.nn.relu(tf.matmul(reshape, layer3_weights) + layer3_biases)\n",
    "        return tf.matmul(hidden, layer4_weights) + layer4_biases\n",
    "\n",
    "    # Training computation.\n",
    "    logits = model(tf_train_dataset)\n",
    "    loss = tf.reduce_mean(\n",
    "        tf.nn.softmax_cross_entropy_with_logits(labels=tf_train_labels, logits=logits))\n",
    "\n",
    "    # Optimizer.\n",
    "    optimizer = tf.train.GradientDescentOptimizer(0.05).minimize(loss)\n",
    "\n",
    "    # Predictions for the training, validation, and test data.\n",
    "    train_prediction = tf.nn.softmax(logits)\n",
    "    valid_prediction = tf.nn.softmax(model(tf_valid_dataset))\n",
    "    test_prediction = tf.nn.softmax(model(tf_test_dataset))"
   ]
  },
  {
   "cell_type": "code",
   "execution_count": 6,
   "metadata": {
    "cellView": "both",
    "colab": {
     "autoexec": {
      "startup": false,
      "wait_interval": 0
     },
     "output_extras": [
      {
       "item_id": 37
      }
     ]
    },
    "colab_type": "code",
    "collapsed": false,
    "executionInfo": {
     "elapsed": 63292,
     "status": "ok",
     "timestamp": 1446658966251,
     "user": {
      "color": "",
      "displayName": "",
      "isAnonymous": false,
      "isMe": true,
      "permissionId": "",
      "photoUrl": "",
      "sessionId": "0",
      "userId": ""
     },
     "user_tz": 480
    },
    "id": "noKFb2UovVFR",
    "outputId": "28941338-2ef9-4088-8bd1-44295661e628"
   },
   "outputs": [
    {
     "name": "stdout",
     "output_type": "stream",
     "text": [
      "Initialized\n",
      "Minibatch loss at step 0: 4.346070\n",
      "Minibatch accuracy: 6.2%\n",
      "Validation accuracy: 10.5%\n",
      "Minibatch loss at step 50: 1.484529\n",
      "Minibatch accuracy: 56.2%\n",
      "Validation accuracy: 61.5%\n",
      "Minibatch loss at step 100: 1.119923\n",
      "Minibatch accuracy: 62.5%\n",
      "Validation accuracy: 63.9%\n",
      "Minibatch loss at step 150: 0.317201\n",
      "Minibatch accuracy: 81.2%\n",
      "Validation accuracy: 73.9%\n",
      "Minibatch loss at step 200: 1.011246\n",
      "Minibatch accuracy: 68.8%\n",
      "Validation accuracy: 77.4%\n",
      "Minibatch loss at step 250: 1.350955\n",
      "Minibatch accuracy: 68.8%\n",
      "Validation accuracy: 77.5%\n",
      "Minibatch loss at step 300: 0.345278\n",
      "Minibatch accuracy: 87.5%\n",
      "Validation accuracy: 79.5%\n",
      "Minibatch loss at step 350: 0.505241\n",
      "Minibatch accuracy: 93.8%\n",
      "Validation accuracy: 76.5%\n",
      "Minibatch loss at step 400: 0.218335\n",
      "Minibatch accuracy: 100.0%\n",
      "Validation accuracy: 79.9%\n",
      "Minibatch loss at step 450: 0.857033\n",
      "Minibatch accuracy: 87.5%\n",
      "Validation accuracy: 77.7%\n",
      "Minibatch loss at step 500: 0.588678\n",
      "Minibatch accuracy: 87.5%\n",
      "Validation accuracy: 80.5%\n",
      "Minibatch loss at step 550: 0.988814\n",
      "Minibatch accuracy: 75.0%\n",
      "Validation accuracy: 80.4%\n",
      "Minibatch loss at step 600: 0.413106\n",
      "Minibatch accuracy: 87.5%\n",
      "Validation accuracy: 81.0%\n",
      "Minibatch loss at step 650: 0.765565\n",
      "Minibatch accuracy: 81.2%\n",
      "Validation accuracy: 80.3%\n",
      "Minibatch loss at step 700: 0.740171\n",
      "Minibatch accuracy: 75.0%\n",
      "Validation accuracy: 81.1%\n",
      "Minibatch loss at step 750: 0.041548\n",
      "Minibatch accuracy: 100.0%\n",
      "Validation accuracy: 82.2%\n",
      "Minibatch loss at step 800: 0.569164\n",
      "Minibatch accuracy: 81.2%\n",
      "Validation accuracy: 81.5%\n",
      "Minibatch loss at step 850: 0.959332\n",
      "Minibatch accuracy: 75.0%\n",
      "Validation accuracy: 81.4%\n",
      "Minibatch loss at step 900: 0.576382\n",
      "Minibatch accuracy: 87.5%\n",
      "Validation accuracy: 82.5%\n",
      "Minibatch loss at step 950: 0.468091\n",
      "Minibatch accuracy: 81.2%\n",
      "Validation accuracy: 82.8%\n",
      "Minibatch loss at step 1000: 0.374981\n",
      "Minibatch accuracy: 87.5%\n",
      "Validation accuracy: 82.1%\n",
      "Test accuracy: 89.2%\n"
     ]
    }
   ],
   "source": [
    "num_steps = 1001\n",
    "minibatch_loss = np.zeros(num_steps)\n",
    "\n",
    "with tf.Session(graph=graph) as session:\n",
    "    tf.global_variables_initializer().run()\n",
    "    print('Initialized')\n",
    "    for step in range(num_steps):\n",
    "        offset = (step * batch_size) % (train_labels.shape[0] - batch_size)\n",
    "        batch_data = train_dataset[offset:(offset + batch_size), :, :, :]\n",
    "        batch_labels = train_labels[offset:(offset + batch_size), :]\n",
    "        feed_dict = {tf_train_dataset : batch_data, tf_train_labels : batch_labels}\n",
    "        _, l, predictions = session.run(\n",
    "          [optimizer, loss, train_prediction], feed_dict=feed_dict)\n",
    "        minibatch_loss[step] = l\n",
    "        if (step % 50 == 0):\n",
    "            print('Minibatch loss at step %d: %f' % (step, l))\n",
    "            print('Minibatch accuracy: %.1f%%' % accuracy(predictions, batch_labels))\n",
    "            print('Validation accuracy: %.1f%%' % accuracy(\n",
    "            valid_prediction.eval(), valid_labels))\n",
    "    print('Test accuracy: %.1f%%' % accuracy(test_prediction.eval(), test_labels))"
   ]
  },
  {
   "cell_type": "code",
   "execution_count": 7,
   "metadata": {
    "collapsed": false
   },
   "outputs": [
    {
     "data": {
      "image/png": "[encoded data removed]",
      "text/plain": [
       "<matplotlib.figure.Figure at 0x11920eac8>"
      ]
     },
     "metadata": {},
     "output_type": "display_data"
    }
   ],
   "source": [
    "N = 100\n",
    "minibatch_loss_filter = np.convolve(minibatch_loss, np.ones((N,))/N, mode='valid')\n",
    "plt.semilogy(minibatch_loss_filter)\n",
    "plt.show()"
   ]
  },
  {
   "cell_type": "markdown",
   "metadata": {
    "colab_type": "text",
    "id": "KedKkn4EutIK"
   },
   "source": [
    "---\n",
    "Problem 1\n",
    "---------\n",
    "\n",
    "The convolutional model above uses convolutions with stride 2 to reduce the dimensionality. Replace the strides by a max pooling operation (`nn.max_pool()`) of stride 2 and kernel size 2.\n",
    "\n",
    "---"
   ]
  },
  {
   "cell_type": "code",
   "execution_count": 8,
   "metadata": {
    "cellView": "both",
    "colab": {
     "autoexec": {
      "startup": false,
      "wait_interval": 0
     }
    },
    "colab_type": "code",
    "collapsed": false,
    "id": "IZYv70SvvOan"
   },
   "outputs": [],
   "source": [
    "batch_size = 16\n",
    "patch_size = 5\n",
    "depth = 16\n",
    "num_hidden = 64\n",
    "\n",
    "graph = tf.Graph()\n",
    "\n",
    "with graph.as_default():\n",
    "\n",
    "    # Input data.\n",
    "    tf_train_dataset = tf.placeholder(\n",
    "        tf.float32, shape=(batch_size, image_size, image_size, num_channels))\n",
    "    tf_train_labels = tf.placeholder(tf.float32, shape=(batch_size, num_labels))\n",
    "    tf_valid_dataset = tf.constant(valid_dataset)\n",
    "    tf_test_dataset = tf.constant(test_dataset)\n",
    "\n",
    "    # Variables.\n",
    "    layer1_weights = tf.Variable(tf.truncated_normal(\n",
    "        [patch_size, patch_size, num_channels, depth], stddev=0.1))\n",
    "    layer1_biases = tf.Variable(tf.zeros([depth]))\n",
    "    layer2_weights = tf.Variable(tf.truncated_normal(\n",
    "        [patch_size, patch_size, depth, depth], stddev=0.1))\n",
    "    layer2_biases = tf.Variable(tf.constant(1.0, shape=[depth]))\n",
    "    layer3_weights = tf.Variable(tf.truncated_normal(\n",
    "        [image_size // 4 * image_size // 4 * depth, num_hidden], stddev=0.1))\n",
    "    layer3_biases = tf.Variable(tf.constant(1.0, shape=[num_hidden]))\n",
    "    layer4_weights = tf.Variable(tf.truncated_normal(\n",
    "        [num_hidden, num_labels], stddev=0.1))\n",
    "    layer4_biases = tf.Variable(tf.constant(1.0, shape=[num_labels]))\n",
    "\n",
    "    # Model.\n",
    "    def model(data):\n",
    "        conv = tf.nn.conv2d(data, layer1_weights, [1, 1, 1, 1], padding='SAME')\n",
    "        hidden = tf.nn.relu(conv + layer1_biases)\n",
    "        pool = tf.nn.max_pool(hidden, ksize=[1, 2, 2, 1], strides=[1, 2, 2, 1], padding='SAME')\n",
    "        conv = tf.nn.conv2d(pool, layer2_weights, [1, 1, 1, 1], padding='SAME')\n",
    "        hidden = tf.nn.relu(conv + layer2_biases)\n",
    "        pool = tf.nn.max_pool(hidden, ksize=[1, 2, 2, 1], strides=[1, 2, 2, 1], padding='SAME')\n",
    "        shape = pool.get_shape().as_list()\n",
    "        reshape = tf.reshape(pool, [shape[0], shape[1] * shape[2] * shape[3]])\n",
    "        hidden = tf.nn.relu(tf.matmul(reshape, layer3_weights) + layer3_biases)\n",
    "        return tf.matmul(hidden, layer4_weights) + layer4_biases, conv\n",
    "\n",
    "    # Training computation.\n",
    "    logits, train_conv = model(tf_train_dataset)\n",
    "    loss = tf.reduce_mean(\n",
    "        tf.nn.softmax_cross_entropy_with_logits(labels=tf_train_labels, logits=logits))\n",
    "\n",
    "    # Optimizer.\n",
    "    optimizer = tf.train.GradientDescentOptimizer(0.05).minimize(loss)\n",
    "\n",
    "    # Predictions for the training, validation, and test data.\n",
    "    train_prediction = tf.nn.softmax(logits)\n",
    "    valid_logits, valid_conv = model(tf_valid_dataset)\n",
    "    valid_prediction = tf.nn.softmax(valid_logits)\n",
    "    test_logits, test_conv = model(tf_test_dataset)\n",
    "    test_prediction = tf.nn.softmax(test_logits)"
   ]
  },
  {
   "cell_type": "code",
   "execution_count": 9,
   "metadata": {
    "cellView": "both",
    "colab": {
     "autoexec": {
      "startup": false,
      "wait_interval": 0
     },
     "output_extras": [
      {
       "item_id": 37
      }
     ]
    },
    "colab_type": "code",
    "collapsed": false,
    "executionInfo": {
     "elapsed": 63292,
     "status": "ok",
     "timestamp": 1446658966251,
     "user": {
      "color": "",
      "displayName": "",
      "isAnonymous": false,
      "isMe": true,
      "permissionId": "",
      "photoUrl": "",
      "sessionId": "0",
      "userId": ""
     },
     "user_tz": 480
    },
    "id": "noKFb2UovVFR",
    "outputId": "28941338-2ef9-4088-8bd1-44295661e628"
   },
   "outputs": [
    {
     "name": "stdout",
     "output_type": "stream",
     "text": [
      "Initialized\n",
      "Minibatch loss at step 0: 3.258948\n",
      "Minibatch accuracy: 12.5%\n",
      "Validation accuracy: 10.0%\n",
      "Minibatch loss at step 50: 1.648412\n",
      "Minibatch accuracy: 37.5%\n",
      "Validation accuracy: 50.8%\n",
      "Minibatch loss at step 100: 0.922267\n",
      "Minibatch accuracy: 68.8%\n",
      "Validation accuracy: 57.4%\n",
      "Minibatch loss at step 150: 0.330087\n",
      "Minibatch accuracy: 87.5%\n",
      "Validation accuracy: 73.8%\n",
      "Minibatch loss at step 200: 0.990209\n",
      "Minibatch accuracy: 81.2%\n",
      "Validation accuracy: 79.0%\n",
      "Minibatch loss at step 250: 1.359517\n",
      "Minibatch accuracy: 56.2%\n",
      "Validation accuracy: 78.4%\n",
      "Minibatch loss at step 300: 0.354573\n",
      "Minibatch accuracy: 87.5%\n",
      "Validation accuracy: 81.1%\n",
      "Minibatch loss at step 350: 0.397538\n",
      "Minibatch accuracy: 93.8%\n",
      "Validation accuracy: 79.3%\n",
      "Minibatch loss at step 400: 0.157880\n",
      "Minibatch accuracy: 100.0%\n",
      "Validation accuracy: 81.1%\n",
      "Minibatch loss at step 450: 0.745121\n",
      "Minibatch accuracy: 81.2%\n",
      "Validation accuracy: 80.1%\n",
      "Minibatch loss at step 500: 0.681598\n",
      "Minibatch accuracy: 87.5%\n",
      "Validation accuracy: 82.2%\n",
      "Minibatch loss at step 550: 0.870578\n",
      "Minibatch accuracy: 75.0%\n",
      "Validation accuracy: 82.3%\n",
      "Minibatch loss at step 600: 0.316890\n",
      "Minibatch accuracy: 87.5%\n",
      "Validation accuracy: 82.3%\n",
      "Minibatch loss at step 650: 0.976668\n",
      "Minibatch accuracy: 75.0%\n",
      "Validation accuracy: 83.4%\n",
      "Minibatch loss at step 700: 0.943896\n",
      "Minibatch accuracy: 81.2%\n",
      "Validation accuracy: 83.8%\n",
      "Minibatch loss at step 750: 0.027935\n",
      "Minibatch accuracy: 100.0%\n",
      "Validation accuracy: 84.2%\n",
      "Minibatch loss at step 800: 0.635162\n",
      "Minibatch accuracy: 75.0%\n",
      "Validation accuracy: 84.1%\n",
      "Minibatch loss at step 850: 0.855657\n",
      "Minibatch accuracy: 81.2%\n",
      "Validation accuracy: 84.0%\n",
      "Minibatch loss at step 900: 0.503165\n",
      "Minibatch accuracy: 87.5%\n",
      "Validation accuracy: 84.5%\n",
      "Minibatch loss at step 950: 0.594986\n",
      "Minibatch accuracy: 87.5%\n",
      "Validation accuracy: 83.7%\n",
      "Minibatch loss at step 1000: 0.340617\n",
      "Minibatch accuracy: 93.8%\n",
      "Validation accuracy: 84.3%\n",
      "Test accuracy: 91.0%\n"
     ]
    }
   ],
   "source": [
    "num_steps = 1001\n",
    "minibatch_loss = np.zeros(num_steps)\n",
    "\n",
    "with tf.Session(graph=graph) as session:\n",
    "    tf.global_variables_initializer().run()\n",
    "    print('Initialized')\n",
    "    for step in range(num_steps):\n",
    "        offset = (step * batch_size) % (train_labels.shape[0] - batch_size)\n",
    "        batch_data = train_dataset[offset:(offset + batch_size), :, :, :]\n",
    "        batch_labels = train_labels[offset:(offset + batch_size), :]\n",
    "        feed_dict = {tf_train_dataset : batch_data, tf_train_labels : batch_labels}\n",
    "        _, l, predictions = session.run(\n",
    "          [optimizer, loss, train_prediction], feed_dict=feed_dict)\n",
    "        minibatch_loss[step] = l\n",
    "        if (step % 50 == 0):\n",
    "            print('Minibatch loss at step %d: %f' % (step, l))\n",
    "            print('Minibatch accuracy: %.1f%%' % accuracy(predictions, batch_labels))\n",
    "            print('Validation accuracy: %.1f%%' % accuracy(\n",
    "            valid_prediction.eval(), valid_labels))\n",
    "    print('Test accuracy: %.1f%%' % accuracy(test_prediction.eval(), test_labels))\n",
    "    feed_dict = {tf_train_dataset : batch_data, tf_train_labels : batch_labels}\n",
    "    conv_trained = session.run([train_conv], feed_dict=feed_dict)"
   ]
  },
  {
   "cell_type": "code",
   "execution_count": 10,
   "metadata": {
    "collapsed": false,
    "scrolled": true
   },
   "outputs": [
    {
     "data": {
      "image/png": "[encoded data removed]",
      "text/plain": [
       "<matplotlib.figure.Figure at 0x1255182e8>"
      ]
     },
     "metadata": {},
     "output_type": "display_data"
    }
   ],
   "source": [
    "N = 100\n",
    "minibatch_loss_filter = np.convolve(minibatch_loss, np.ones((N,))/N, mode='valid')\n",
    "plt.semilogy(minibatch_loss_filter)\n",
    "plt.show()"
   ]
  },
  {
   "cell_type": "code",
   "execution_count": 11,
   "metadata": {
    "collapsed": false
   },
   "outputs": [
    {
     "data": {
      "image/png": "[encoded data removed]",
      "text/plain": [
       "<matplotlib.figure.Figure at 0x10a6eec18>"
      ]
     },
     "metadata": {},
     "output_type": "display_data"
    },
    {
     "data": {
      "image/png": "[encoded data removed]",
      "text/plain": [
       "<matplotlib.figure.Figure at 0x1254f7fd0>"
      ]
     },
     "metadata": {},
     "output_type": "display_data"
    }
   ],
   "source": [
    "# Display original image and trained convolved images\n",
    "image_ind = 0\n",
    "plt.figure(1)\n",
    "plt.imshow(batch_data[image_ind,:,:,0])\n",
    "plt.gray()\n",
    "plt.show()\n",
    "plt.figure(2)\n",
    "for i in np.arange(depth):\n",
    "    offset = i * image_size // 2\n",
    "    plt.subplot(depth // 4, 4, i+1)\n",
    "    plt.imshow(conv_trained[0][image_ind,:,:,i])\n",
    "    plt.gray()\n",
    "plt.show()"
   ]
  },
  {
   "cell_type": "markdown",
   "metadata": {},
   "source": [
    "Find a misclassified letter"
   ]
  },
  {
   "cell_type": "code",
   "execution_count": 18,
   "metadata": {
    "collapsed": false
   },
   "outputs": [
    {
     "data": {
      "text/plain": [
       "array([6, 9, 5, 1, 3, 9, 8, 7, 1, 7, 5, 5, 5, 1, 8, 1])"
      ]
     },
     "execution_count": 18,
     "metadata": {},
     "output_type": "execute_result"
    }
   ],
   "source": [
    "np.argmax(predictions, 1)"
   ]
  },
  {
   "cell_type": "code",
   "execution_count": 19,
   "metadata": {
    "collapsed": false
   },
   "outputs": [
    {
     "data": {
      "text/plain": [
       "array([6, 9, 5, 1, 3, 9, 8, 7, 1, 7, 5, 5, 8, 1, 8, 1])"
      ]
     },
     "execution_count": 19,
     "metadata": {},
     "output_type": "execute_result"
    }
   ],
   "source": [
    "np.argmax(batch_labels, 1)"
   ]
  },
  {
   "cell_type": "code",
   "execution_count": 20,
   "metadata": {
    "collapsed": false
   },
   "outputs": [
    {
     "data": {
      "text/plain": [
       "array([ True,  True,  True,  True,  True,  True,  True,  True,  True,\n",
       "        True,  True,  True, False,  True,  True,  True], dtype=bool)"
      ]
     },
     "execution_count": 20,
     "metadata": {},
     "output_type": "execute_result"
    }
   ],
   "source": [
    "np.argmax(predictions, 1) == np.argmax(batch_labels, 1)"
   ]
  },
  {
   "cell_type": "code",
   "execution_count": 21,
   "metadata": {
    "collapsed": false
   },
   "outputs": [
    {
     "name": "stdout",
     "output_type": "stream",
     "text": [
      "8\n",
      "5\n"
     ]
    },
    {
     "data": {
      "image/png": "[encoded data removed]",
      "text/plain": [
       "<matplotlib.figure.Figure at 0x10a6ee5c0>"
      ]
     },
     "metadata": {},
     "output_type": "display_data"
    }
   ],
   "source": [
    "print(np.argmax(batch_labels,1)[12])\n",
    "print(np.argmax(predictions,1)[12])\n",
    "plt.imshow(batch_data[12,:,:,0])\n",
    "plt.gray()\n",
    "plt.show()"
   ]
  },
  {
   "cell_type": "markdown",
   "metadata": {
    "colab_type": "text",
    "id": "klf21gpbAgb-"
   },
   "source": [
    "---\n",
    "Problem 2\n",
    "---------\n",
    "\n",
    "Try to get the best performance you can using a convolutional net. Look for example at the classic [LeNet5](http://yann.lecun.com/exdb/lenet/) architecture, adding Dropout, and/or adding learning rate decay.\n",
    "\n",
    "---"
   ]
  },
  {
   "cell_type": "code",
   "execution_count": 5,
   "metadata": {
    "collapsed": false
   },
   "outputs": [
    {
     "name": "stdout",
     "output_type": "stream",
     "text": [
      "Directory ./notMNIST_data/logs_v3 does not exist. Creating it...\n",
      "Created directory ./notMNIST_data/logs_v3.\n",
      "Directory ./notMNIST_data/save_v3 does not exist. Creating it...\n",
      "Created directory ./notMNIST_data/save_v3.\n"
     ]
    }
   ],
   "source": [
    "batch_size = 16\n",
    "patch_size = 5\n",
    "depth = 16\n",
    "num_hidden = 64\n",
    "learning_rate = 0.001\n",
    "log_dir = os.path.join(data_root, 'logs_v3')\n",
    "if not os.path.exists(log_dir):\n",
    "    print('Directory %s does not exist. Creating it...' % log_dir)\n",
    "    os.makedirs(log_dir)\n",
    "    print('Created directory %s.' % log_dir)\n",
    "    \n",
    "save_dir = os.path.join(data_root, 'save_v3')\n",
    "if not os.path.exists(save_dir):\n",
    "    print('Directory %s does not exist. Creating it...' % save_dir)\n",
    "    os.makedirs(save_dir)\n",
    "    print('Created directory %s.' % save_dir)\n",
    "\n",
    "graph = tf.Graph()\n",
    "\n",
    "with graph.as_default():\n",
    "\n",
    "    # Input data.\n",
    "    # TODO: Be able to input data from train, valid, or test, in batch or entirety\n",
    "    with tf.name_scope('input'):\n",
    "        input_data = tf.placeholder(\n",
    "            tf.float32, shape=(None, image_size, image_size, num_channels),\n",
    "            name='input_data')\n",
    "        input_labels = tf.placeholder(tf.float32, shape=(None, num_labels),\n",
    "            name='input_labels')\n",
    "        tf.summary.image('input', input_data, 10)\n",
    "\n",
    "    # Variables.\n",
    "    def weight_variable(shape):\n",
    "        \"\"\"Create a weight variable with appropriate initialization.\"\"\"\n",
    "        initial = tf.truncated_normal(shape, stddev=0.1)\n",
    "        return tf.Variable(initial)\n",
    "\n",
    "    def bias_variable(shape):\n",
    "        \"\"\"Create a bias variable with appropriate initialization.\"\"\"\n",
    "        initial = tf.constant(1.0, shape=shape)\n",
    "        return tf.Variable(initial)\n",
    "    \n",
    "    def variable_summaries(var):\n",
    "        \"\"\"Attach a lot of summaries to a Tensor (for TensorBoard visualization).\"\"\"\n",
    "        with tf.name_scope('summaries'):\n",
    "            mean = tf.reduce_mean(var)\n",
    "            tf.summary.scalar('mean', mean)\n",
    "            with tf.name_scope('stddev'):\n",
    "                stddev = tf.sqrt(tf.reduce_mean(tf.square(var - mean)))\n",
    "            tf.summary.scalar('stddev', stddev)\n",
    "            tf.summary.scalar('max', tf.reduce_max(var))\n",
    "            tf.summary.scalar('min', tf.reduce_min(var))\n",
    "            tf.summary.histogram('histogram', var)\n",
    "            \n",
    "    def conv_layer(input_tensor, patch_size, input_channels, output_channels, layer_name, act=tf.nn.relu):\n",
    "        \"\"\"Reusable code for making a simple neural net layer.\n",
    "        It does a 2d convolution, bias add, and then uses ReLU to nonlinearize.\n",
    "        It also sets up name scoping so that the resultant graph is easy to read,\n",
    "        and adds a number of summary ops.\n",
    "        \"\"\"\n",
    "        # Adding a name scope ensures logical grouping of the layers in the graph.\n",
    "        with tf.name_scope(layer_name):\n",
    "            # This Variable will hold the state of the weights for the layer\n",
    "            layer1_weights = tf.Variable(tf.truncated_normal(\n",
    "                [patch_size, patch_size, num_channels, depth], stddev=0.1))\n",
    "            layer1_biases = tf.Variable(tf.zeros([depth]))\n",
    "    \n",
    "            with tf.name_scope('weights'):\n",
    "                weights = weight_variable([patch_size, patch_size, input_channels, output_channels])\n",
    "                variable_summaries(weights)\n",
    "            with tf.name_scope('biases'):\n",
    "                biases = bias_variable([output_channels])\n",
    "                variable_summaries(biases)\n",
    "            with tf.name_scope('conv_plus_b'):\n",
    "                preactivate = tf.nn.conv2d(input_tensor, weights, [1, 1, 1, 1], padding='SAME') + biases\n",
    "                tf.summary.histogram('pre_activations', preactivate)\n",
    "            activations = act(preactivate, name='activation')\n",
    "            tf.summary.histogram('activations', activations)\n",
    "            return activations\n",
    "        \n",
    "    def pool_layer(input_tensor, layer_name):\n",
    "        \"\"\"Reusable code for making a simple max pooling layer\n",
    "        \"\"\"\n",
    "        # Adding a name scope ensures logical grouping of the layers in the graph.\n",
    "        with tf.name_scope(layer_name):\n",
    "            pool = tf.nn.max_pool(input_tensor, ksize=[1, 2, 2, 1], strides=[1, 2, 2, 1], padding='SAME')\n",
    "            return pool\n",
    "    \n",
    "    def nn_layer(input_tensor, input_dim, output_dim, layer_name, act=tf.nn.relu):\n",
    "        \"\"\"Reusable code for making a simple neural net layer.\n",
    "        It does a matrix multiply, bias add, and then uses ReLU to nonlinearize.\n",
    "        It also sets up name scoping so that the resultant graph is easy to read,\n",
    "        and adds a number of summary ops.\n",
    "        \"\"\"\n",
    "        # Adding a name scope ensures logical grouping of the layers in the graph.\n",
    "        with tf.name_scope(layer_name):\n",
    "            # This Variable will hold the state of the weights for the layer\n",
    "            with tf.name_scope('weights'):\n",
    "                weights = weight_variable([input_dim, output_dim])\n",
    "                variable_summaries(weights)\n",
    "            with tf.name_scope('biases'):\n",
    "                biases = bias_variable([output_dim])\n",
    "                variable_summaries(biases)\n",
    "            with tf.name_scope('Wx_plus_b'):\n",
    "                preactivate = tf.matmul(input_tensor, weights) + biases\n",
    "                tf.summary.histogram('pre_activations', preactivate)\n",
    "            activations = act(preactivate, name='activation')\n",
    "            tf.summary.histogram('activations', activations)\n",
    "            return activations\n",
    "    \n",
    "    # Model.\n",
    "    conv1 = conv_layer(input_data, patch_size, num_channels, depth, 'conv1')\n",
    "    pool1 = pool_layer(conv1, 'pool1')\n",
    "    conv2 = conv_layer(pool1, patch_size, depth, depth, 'conv2')\n",
    "    pool2 = pool_layer(conv2, 'pool2')\n",
    "    \n",
    "    with tf.name_scope('image_reshape'):\n",
    "        shape = pool2.get_shape().as_list()\n",
    "        reshape = tf.reshape(pool2, [-1, shape[1] * shape[2] * shape[3]])\n",
    "\n",
    "    hidden1 = nn_layer(reshape, image_size // 4 * image_size // 4 * depth, num_hidden, 'hidden1')\n",
    "    hidden2 = nn_layer(hidden1, num_hidden, num_hidden, 'hidden2')\n",
    "    \n",
    "    # TODO: Try adding dropout at this step.\n",
    "    logits = nn_layer(hidden2, num_hidden, num_labels, 'hidden3', act=tf.identity)\n",
    "\n",
    "    # Training computation.\n",
    "    with tf.name_scope('cross_entropy'):\n",
    "        diff = tf.nn.softmax_cross_entropy_with_logits(labels=input_labels, logits=logits)\n",
    "        with tf.name_scope('total'):\n",
    "            cross_entropy = tf.reduce_mean(diff)\n",
    "    tf.summary.scalar('cross_entropy', cross_entropy)\n",
    "    \n",
    "    with tf.name_scope('train'):\n",
    "        train_step = tf.train.AdamOptimizer(learning_rate).minimize(\n",
    "            cross_entropy)\n",
    "\n",
    "    with tf.name_scope('accuracy'):\n",
    "        with tf.name_scope('correct_prediction'):\n",
    "            correct_prediction = tf.equal(tf.argmax(logits, 1), tf.argmax(input_labels, 1))\n",
    "        with tf.name_scope('accuracy'):\n",
    "            accuracy = tf.reduce_mean(tf.cast(correct_prediction, tf.float32))\n",
    "    tf.summary.scalar('accuracy', accuracy)\n",
    "\n",
    "    # Merge all the summaries\n",
    "    merged = tf.summary.merge_all()"
   ]
  },
  {
   "cell_type": "code",
   "execution_count": 6,
   "metadata": {
    "collapsed": false
   },
   "outputs": [
    {
     "name": "stdout",
     "output_type": "stream",
     "text": [
      "Initialized\n",
      "Accuracy at step 0: 0.0999\n",
      "Accuracy at step 10: 0.1008\n",
      "Accuracy at step 20: 0.1027\n",
      "Accuracy at step 30: 0.2037\n",
      "Accuracy at step 40: 0.3024\n",
      "Accuracy at step 50: 0.2724\n",
      "Accuracy at step 60: 0.2331\n",
      "Accuracy at step 70: 0.3556\n",
      "Accuracy at step 80: 0.5685\n",
      "Accuracy at step 90: 0.5343\n",
      "Adding run metadata for 99\n",
      "Accuracy at step 100: 0.6268\n",
      "Accuracy at step 110: 0.6454\n",
      "Accuracy at step 120: 0.6411\n",
      "Accuracy at step 130: 0.668\n",
      "Accuracy at step 140: 0.7199\n",
      "Accuracy at step 150: 0.7153\n",
      "Accuracy at step 160: 0.7403\n",
      "Accuracy at step 170: 0.7327\n",
      "Accuracy at step 180: 0.753\n",
      "Accuracy at step 190: 0.7563\n",
      "Adding run metadata for 199\n",
      "Accuracy at step 200: 0.7692\n",
      "Accuracy at step 210: 0.7778\n",
      "Accuracy at step 220: 0.7748\n",
      "Accuracy at step 230: 0.7768\n",
      "Accuracy at step 240: 0.7783\n",
      "Accuracy at step 250: 0.7711\n",
      "Accuracy at step 260: 0.7809\n",
      "Accuracy at step 270: 0.7229\n",
      "Accuracy at step 280: 0.7829\n",
      "Accuracy at step 290: 0.765\n",
      "Adding run metadata for 299\n",
      "Accuracy at step 300: 0.7814\n",
      "Accuracy at step 310: 0.7875\n",
      "Accuracy at step 320: 0.7962\n",
      "Accuracy at step 330: 0.7965\n",
      "Accuracy at step 340: 0.7785\n",
      "Accuracy at step 350: 0.7743\n",
      "Accuracy at step 360: 0.8028\n",
      "Accuracy at step 370: 0.8015\n",
      "Accuracy at step 380: 0.8012\n",
      "Accuracy at step 390: 0.7956\n",
      "Adding run metadata for 399\n",
      "Accuracy at step 400: 0.7975\n",
      "Accuracy at step 410: 0.8063\n",
      "Accuracy at step 420: 0.7882\n",
      "Accuracy at step 430: 0.8067\n",
      "Accuracy at step 440: 0.804\n",
      "Accuracy at step 450: 0.8028\n",
      "Accuracy at step 460: 0.7853\n",
      "Accuracy at step 470: 0.8006\n",
      "Accuracy at step 480: 0.788\n",
      "Accuracy at step 490: 0.8092\n",
      "Adding run metadata for 499\n",
      "Accuracy at step 500: 0.8042\n",
      "Accuracy at step 510: 0.8103\n",
      "Accuracy at step 520: 0.8081\n",
      "Accuracy at step 530: 0.8048\n",
      "Accuracy at step 540: 0.7962\n",
      "Accuracy at step 550: 0.8059\n",
      "Accuracy at step 560: 0.8002\n",
      "Accuracy at step 570: 0.8193\n",
      "Accuracy at step 580: 0.8108\n",
      "Accuracy at step 590: 0.8117\n",
      "Adding run metadata for 599\n",
      "Accuracy at step 600: 0.7946\n",
      "Accuracy at step 610: 0.8171\n",
      "Accuracy at step 620: 0.8168\n",
      "Accuracy at step 630: 0.8118\n",
      "Accuracy at step 640: 0.8125\n",
      "Accuracy at step 650: 0.8201\n",
      "Accuracy at step 660: 0.8167\n",
      "Accuracy at step 670: 0.8221\n",
      "Accuracy at step 680: 0.8172\n",
      "Accuracy at step 690: 0.8154\n",
      "Adding run metadata for 699\n",
      "Accuracy at step 700: 0.8153\n",
      "Accuracy at step 710: 0.8117\n",
      "Accuracy at step 720: 0.8174\n",
      "Accuracy at step 730: 0.8073\n",
      "Accuracy at step 740: 0.8256\n",
      "Accuracy at step 750: 0.8223\n",
      "Accuracy at step 760: 0.8163\n",
      "Accuracy at step 770: 0.824\n",
      "Accuracy at step 780: 0.8206\n",
      "Accuracy at step 790: 0.8183\n",
      "Adding run metadata for 799\n",
      "Accuracy at step 800: 0.827\n",
      "Accuracy at step 810: 0.8337\n",
      "Accuracy at step 820: 0.8279\n",
      "Accuracy at step 830: 0.822\n",
      "Accuracy at step 840: 0.8268\n",
      "Accuracy at step 850: 0.8276\n",
      "Accuracy at step 860: 0.8305\n",
      "Accuracy at step 870: 0.8256\n",
      "Accuracy at step 880: 0.8263\n",
      "Accuracy at step 890: 0.8271\n",
      "Adding run metadata for 899\n",
      "Accuracy at step 900: 0.8339\n",
      "Accuracy at step 910: 0.8339\n",
      "Accuracy at step 920: 0.8257\n",
      "Accuracy at step 930: 0.8253\n",
      "Accuracy at step 940: 0.8311\n",
      "Accuracy at step 950: 0.8291\n",
      "Accuracy at step 960: 0.8353\n",
      "Accuracy at step 970: 0.8285\n",
      "Accuracy at step 980: 0.8209\n",
      "Accuracy at step 990: 0.8305\n",
      "Adding run metadata for 999\n",
      "Accuracy at step 1000: 0.8208\n",
      "Accuracy at step 1010: 0.8142\n",
      "Accuracy at step 1020: 0.8316\n",
      "Accuracy at step 1030: 0.8323\n",
      "Accuracy at step 1040: 0.8281\n",
      "Accuracy at step 1050: 0.8297\n",
      "Accuracy at step 1060: 0.8314\n",
      "Accuracy at step 1070: 0.8292\n",
      "Accuracy at step 1080: 0.8218\n",
      "Accuracy at step 1090: 0.8257\n",
      "Adding run metadata for 1099\n",
      "Accuracy at step 1100: 0.8367\n",
      "Accuracy at step 1110: 0.8386\n",
      "Accuracy at step 1120: 0.8398\n",
      "Accuracy at step 1130: 0.8328\n",
      "Accuracy at step 1140: 0.8325\n",
      "Accuracy at step 1150: 0.8306\n",
      "Accuracy at step 1160: 0.8318\n",
      "Accuracy at step 1170: 0.8318\n",
      "Accuracy at step 1180: 0.8307\n",
      "Accuracy at step 1190: 0.8281\n",
      "Adding run metadata for 1199\n",
      "Accuracy at step 1200: 0.833\n",
      "Accuracy at step 1210: 0.8365\n",
      "Accuracy at step 1220: 0.8287\n",
      "Accuracy at step 1230: 0.84\n",
      "Accuracy at step 1240: 0.8389\n",
      "Accuracy at step 1250: 0.8322\n",
      "Accuracy at step 1260: 0.8354\n",
      "Accuracy at step 1270: 0.8345\n",
      "Accuracy at step 1280: 0.8426\n",
      "Accuracy at step 1290: 0.8381\n",
      "Adding run metadata for 1299\n",
      "Accuracy at step 1300: 0.8398\n",
      "Accuracy at step 1310: 0.8419\n",
      "Accuracy at step 1320: 0.8439\n",
      "Accuracy at step 1330: 0.8337\n",
      "Accuracy at step 1340: 0.8392\n",
      "Accuracy at step 1350: 0.841\n",
      "Accuracy at step 1360: 0.8282\n",
      "Accuracy at step 1370: 0.8385\n",
      "Accuracy at step 1380: 0.8377\n",
      "Accuracy at step 1390: 0.84\n",
      "Adding run metadata for 1399\n",
      "Accuracy at step 1400: 0.8482\n",
      "Accuracy at step 1410: 0.8469\n",
      "Accuracy at step 1420: 0.8411\n",
      "Accuracy at step 1430: 0.8467\n",
      "Accuracy at step 1440: 0.8432\n",
      "Accuracy at step 1450: 0.8483\n",
      "Accuracy at step 1460: 0.8391\n",
      "Accuracy at step 1470: 0.8453\n",
      "Accuracy at step 1480: 0.834\n",
      "Accuracy at step 1490: 0.839\n",
      "Adding run metadata for 1499\n",
      "Accuracy at step 1500: 0.8339\n",
      "Accuracy at step 1510: 0.8434\n",
      "Accuracy at step 1520: 0.8393\n",
      "Accuracy at step 1530: 0.8412\n",
      "Accuracy at step 1540: 0.8374\n",
      "Accuracy at step 1550: 0.8414\n",
      "Accuracy at step 1560: 0.8382\n",
      "Accuracy at step 1570: 0.8365\n",
      "Accuracy at step 1580: 0.8448\n",
      "Accuracy at step 1590: 0.85\n",
      "Adding run metadata for 1599\n",
      "Accuracy at step 1600: 0.8493\n",
      "Accuracy at step 1610: 0.8413\n",
      "Accuracy at step 1620: 0.8432\n",
      "Accuracy at step 1630: 0.8447\n",
      "Accuracy at step 1640: 0.8441\n",
      "Accuracy at step 1650: 0.8465\n",
      "Accuracy at step 1660: 0.8471\n",
      "Accuracy at step 1670: 0.8395\n",
      "Accuracy at step 1680: 0.839\n",
      "Accuracy at step 1690: 0.845\n",
      "Adding run metadata for 1699\n",
      "Accuracy at step 1700: 0.8385\n",
      "Accuracy at step 1710: 0.8467\n",
      "Accuracy at step 1720: 0.8475\n",
      "Accuracy at step 1730: 0.8448\n",
      "Accuracy at step 1740: 0.8485\n",
      "Accuracy at step 1750: 0.8497\n",
      "Accuracy at step 1760: 0.847\n",
      "Accuracy at step 1770: 0.8417\n",
      "Accuracy at step 1780: 0.8468\n",
      "Accuracy at step 1790: 0.8501\n",
      "Adding run metadata for 1799\n",
      "Accuracy at step 1800: 0.8476\n",
      "Accuracy at step 1810: 0.8447\n",
      "Accuracy at step 1820: 0.8521\n",
      "Accuracy at step 1830: 0.849\n",
      "Accuracy at step 1840: 0.8475\n",
      "Accuracy at step 1850: 0.8515\n",
      "Accuracy at step 1860: 0.85\n",
      "Accuracy at step 1870: 0.845\n",
      "Accuracy at step 1880: 0.8437\n",
      "Accuracy at step 1890: 0.8494\n",
      "Adding run metadata for 1899\n",
      "Accuracy at step 1900: 0.8348\n",
      "Accuracy at step 1910: 0.8518\n",
      "Accuracy at step 1920: 0.8553\n",
      "Accuracy at step 1930: 0.8455\n",
      "Accuracy at step 1940: 0.8461\n",
      "Accuracy at step 1950: 0.8405\n",
      "Accuracy at step 1960: 0.849\n",
      "Accuracy at step 1970: 0.8514\n",
      "Accuracy at step 1980: 0.849\n",
      "Accuracy at step 1990: 0.851\n",
      "Adding run metadata for 1999\n",
      "Accuracy at step 2000: 0.8472\n",
      "Accuracy at step 2010: 0.8503\n",
      "Accuracy at step 2020: 0.8535\n",
      "Accuracy at step 2030: 0.8477\n",
      "Accuracy at step 2040: 0.8498\n",
      "Accuracy at step 2050: 0.856\n",
      "Accuracy at step 2060: 0.8482\n",
      "Accuracy at step 2070: 0.8468\n",
      "Accuracy at step 2080: 0.8505\n",
      "Accuracy at step 2090: 0.8481\n",
      "Adding run metadata for 2099\n",
      "Accuracy at step 2100: 0.8483\n",
      "Accuracy at step 2110: 0.852\n",
      "Accuracy at step 2120: 0.8519\n",
      "Accuracy at step 2130: 0.8505\n",
      "Accuracy at step 2140: 0.8503\n",
      "Accuracy at step 2150: 0.8524\n",
      "Accuracy at step 2160: 0.8537\n",
      "Accuracy at step 2170: 0.849\n",
      "Accuracy at step 2180: 0.8495\n",
      "Accuracy at step 2190: 0.8421\n",
      "Adding run metadata for 2199\n",
      "Accuracy at step 2200: 0.8451\n",
      "Accuracy at step 2210: 0.8384\n",
      "Accuracy at step 2220: 0.8428\n",
      "Accuracy at step 2230: 0.8476\n",
      "Accuracy at step 2240: 0.8485\n",
      "Accuracy at step 2250: 0.8478\n",
      "Accuracy at step 2260: 0.8493\n",
      "Accuracy at step 2270: 0.8523\n",
      "Accuracy at step 2280: 0.8534\n",
      "Accuracy at step 2290: 0.855\n",
      "Adding run metadata for 2299\n",
      "Accuracy at step 2300: 0.8509\n",
      "Accuracy at step 2310: 0.8526\n",
      "Accuracy at step 2320: 0.8532\n",
      "Accuracy at step 2330: 0.8565\n",
      "Accuracy at step 2340: 0.8487\n",
      "Accuracy at step 2350: 0.8529\n",
      "Accuracy at step 2360: 0.8556\n",
      "Accuracy at step 2370: 0.852\n",
      "Accuracy at step 2380: 0.8548\n",
      "Accuracy at step 2390: 0.8543\n",
      "Adding run metadata for 2399\n",
      "Accuracy at step 2400: 0.8534\n",
      "Accuracy at step 2410: 0.8533\n",
      "Accuracy at step 2420: 0.8475\n",
      "Accuracy at step 2430: 0.8498\n",
      "Accuracy at step 2440: 0.8519\n",
      "Accuracy at step 2450: 0.8527\n",
      "Accuracy at step 2460: 0.8572\n",
      "Accuracy at step 2470: 0.8574\n",
      "Accuracy at step 2480: 0.8469\n",
      "Accuracy at step 2490: 0.8499\n",
      "Adding run metadata for 2499\n",
      "Accuracy at step 2500: 0.8455\n",
      "Accuracy at step 2510: 0.8495\n",
      "Accuracy at step 2520: 0.8477\n",
      "Accuracy at step 2530: 0.8525\n",
      "Accuracy at step 2540: 0.8527\n",
      "Accuracy at step 2550: 0.8554\n",
      "Accuracy at step 2560: 0.8519\n",
      "Accuracy at step 2570: 0.8537\n",
      "Accuracy at step 2580: 0.8537\n",
      "Accuracy at step 2590: 0.8556\n",
      "Adding run metadata for 2599\n",
      "Accuracy at step 2600: 0.8617\n",
      "Accuracy at step 2610: 0.8598\n",
      "Accuracy at step 2620: 0.8587\n",
      "Accuracy at step 2630: 0.857\n",
      "Accuracy at step 2640: 0.8492\n",
      "Accuracy at step 2650: 0.8515\n",
      "Accuracy at step 2660: 0.8608\n",
      "Accuracy at step 2670: 0.8584\n",
      "Accuracy at step 2680: 0.8596\n",
      "Accuracy at step 2690: 0.8533\n",
      "Adding run metadata for 2699\n",
      "Accuracy at step 2700: 0.858\n",
      "Accuracy at step 2710: 0.8534\n",
      "Accuracy at step 2720: 0.8563\n",
      "Accuracy at step 2730: 0.8562\n",
      "Accuracy at step 2740: 0.8561\n",
      "Accuracy at step 2750: 0.8601\n",
      "Accuracy at step 2760: 0.8594\n",
      "Accuracy at step 2770: 0.8601\n",
      "Accuracy at step 2780: 0.8601\n",
      "Accuracy at step 2790: 0.857\n",
      "Adding run metadata for 2799\n",
      "Accuracy at step 2800: 0.8613\n",
      "Accuracy at step 2810: 0.8605\n",
      "Accuracy at step 2820: 0.8496\n",
      "Accuracy at step 2830: 0.8597\n",
      "Accuracy at step 2840: 0.8615\n",
      "Accuracy at step 2850: 0.8644\n",
      "Accuracy at step 2860: 0.8596\n",
      "Accuracy at step 2870: 0.8624\n",
      "Accuracy at step 2880: 0.8568\n",
      "Accuracy at step 2890: 0.8517\n",
      "Adding run metadata for 2899\n",
      "Accuracy at step 2900: 0.8531\n",
      "Accuracy at step 2910: 0.8576\n",
      "Accuracy at step 2920: 0.8585\n",
      "Accuracy at step 2930: 0.8596\n",
      "Accuracy at step 2940: 0.8563\n",
      "Accuracy at step 2950: 0.8549\n",
      "Accuracy at step 2960: 0.8558\n",
      "Accuracy at step 2970: 0.86\n",
      "Accuracy at step 2980: 0.8593\n",
      "Accuracy at step 2990: 0.8606\n",
      "Adding run metadata for 2999\n",
      "Accuracy at step 3000: 0.8599\n"
     ]
    }
   ],
   "source": [
    "num_steps = 3001\n",
    "\n",
    "with tf.Session(graph=graph) as sess:\n",
    "    saver = tf.train.Saver()\n",
    "    train_writer = tf.summary.FileWriter(log_dir + '/train', sess.graph)\n",
    "    valid_writer = tf.summary.FileWriter(log_dir + '/valid')\n",
    "    tf.global_variables_initializer().run()\n",
    "    print('Initialized')\n",
    "    \n",
    "    for step in range(num_steps):\n",
    "        if step % 10 == 0:  # Record summaries and valid-set accuracy\n",
    "            # TODO: Set up feed_dict for validation set\n",
    "            feed_dict = {input_data : valid_dataset, input_labels : valid_labels}\n",
    "            summary, acc = sess.run([merged, accuracy], feed_dict=feed_dict)\n",
    "            valid_writer.add_summary(summary, step)\n",
    "            print('Accuracy at step %s: %s' % (step, acc))\n",
    "        if step % 100 == 0:\n",
    "            saver.save(sess, save_dir + '/my-model-new', global_step=step)\n",
    "        # Record train set summaries, and train\n",
    "        if step % 100 == 99:  # Record execution stats\n",
    "            run_options = tf.RunOptions(trace_level=tf.RunOptions.FULL_TRACE)\n",
    "            run_metadata = tf.RunMetadata()\n",
    "            offset = (step * batch_size) % (train_labels.shape[0] - batch_size)\n",
    "            batch_data = train_dataset[offset:(offset + batch_size), :, :, :]\n",
    "            batch_labels = train_labels[offset:(offset + batch_size), :]\n",
    "            feed_dict = {input_data : batch_data, input_labels : batch_labels}\n",
    "            summary, _ = sess.run([merged, train_step],\n",
    "                                  feed_dict=feed_dict,\n",
    "                                  options=run_options,\n",
    "                                  run_metadata=run_metadata)\n",
    "            train_writer.add_run_metadata(run_metadata, 'step%03d' % step)\n",
    "            train_writer.add_summary(summary, step)\n",
    "            print('Adding run metadata for', step)\n",
    "        else:  # Record a summary\n",
    "            offset = (step * batch_size) % (train_labels.shape[0] - batch_size)\n",
    "            batch_data = train_dataset[offset:(offset + batch_size), :, :, :]\n",
    "            batch_labels = train_labels[offset:(offset + batch_size), :]\n",
    "            feed_dict = {input_data : batch_data, input_labels : batch_labels}\n",
    "            summary, _ = sess.run([merged, train_step], feed_dict=feed_dict)\n",
    "            train_writer.add_summary(summary, step)\n",
    "    train_writer.close()\n",
    "    valid_writer.close()"
   ]
  },
  {
   "cell_type": "code",
   "execution_count": null,
   "metadata": {
    "collapsed": true
   },
   "outputs": [],
   "source": []
  }
 ],
 "metadata": {
  "colab": {
   "default_view": {},
   "name": "4_convolutions.ipynb",
   "provenance": [],
   "version": "0.3.2",
   "views": {}
  },
  "kernelspec": {
   "display_name": "Python 3",
   "language": "python",
   "name": "python3"
  },
  "language_info": {
   "codemirror_mode": {
    "name": "ipython",
    "version": 3
   },
   "file_extension": ".py",
   "mimetype": "text/x-python",
   "name": "python",
   "nbconvert_exporter": "python",
   "pygments_lexer": "ipython3",
   "version": "3.6.0"
  }
 },
 "nbformat": 4,
 "nbformat_minor": 0
}
